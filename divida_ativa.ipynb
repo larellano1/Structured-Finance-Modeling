{
 "cells": [
  {
   "cell_type": "code",
   "execution_count": 3,
   "metadata": {},
   "outputs": [
    {
     "name": "stdout",
     "output_type": "stream",
     "text": [
      "Recuperação esperada por ano:\n",
      "Ano 1: R$ 1244.96\n",
      "Ano 2: R$ 855.76\n",
      "Ano 3: R$ 583.78\n",
      "Ano 4: R$ 424.12\n",
      "Ano 5: R$ 305.51\n",
      "Ano 6: R$ 219.53\n",
      "Ano 7: R$ 162.76\n",
      "Ano 8: R$ 125.33\n",
      "Ano 9: R$ 91.68\n",
      "Ano 10: R$ 66.96\n",
      "\n",
      "Saldo esperado por ano:\n",
      "Ano 1: R$ 2460.04\n",
      "Ano 2: R$ 1753.07\n",
      "Ano 3: R$ 1278.01\n",
      "Ano 4: R$ 934.89\n",
      "Ano 5: R$ 689.72\n",
      "Ano 6: R$ 515.30\n",
      "Ano 7: R$ 386.65\n",
      "Ano 8: R$ 287.17\n",
      "Ano 9: R$ 214.83\n",
      "Ano 10: R$ 162.43\n",
      "\n",
      "Valor presente das recuperações esperadas:\n",
      "NPV: R$ 3629.24\n"
     ]
    }
   ],
   "source": [
    "import numpy as np\n",
    "from scipy.stats import beta\n",
    "\n",
    "# Parâmetros para dívidas vencidas\n",
    "debts = [\n",
    "    {\"saldo\": 1000, \"rec_mu\": 0.4, \"rec_sigma\": 0.1, \"correcao\": 0.05},  # Dívida 1\n",
    "    {\"saldo\": 2000, \"rec_mu\": 0.3, \"rec_sigma\": 0.15, \"correcao\": 0.07}, # Dívida 2\n",
    "    {\"saldo\": 500, \"rec_mu\": 0.5, \"rec_sigma\": 0.2, \"correcao\": 0.03},   # Dívida 3\n",
    "]\n",
    "\n",
    "simulations = 1000  # Número de simulações\n",
    "max_years = 10  # Período máximo de análise (horizonte)\n",
    "\n",
    "# Função para calcular alpha e beta da distribuição Beta\n",
    "def beta_params(mean, var):\n",
    "    alpha = mean * ((mean * (1 - mean) / var) - 1)\n",
    "    beta = (1 - mean) * ((mean * (1 - mean) / var) - 1)\n",
    "    return alpha, beta\n",
    "\n",
    "# Simulação Monte Carlo\n",
    "all_recoveries = np.zeros((simulations, max_years))  # Recuperações anuais\n",
    "all_remaining_balances = np.zeros((simulations, max_years))  # Saldos anuais\n",
    "\n",
    "for sim in range(simulations):\n",
    "    annual_recoveries = np.zeros(max_years)  # Recuperações da simulação\n",
    "    annual_balances = np.zeros(max_years)  # Saldos da simulação\n",
    "    \n",
    "    for debt in debts:\n",
    "        # Parâmetros da dívida\n",
    "        saldo = debt[\"saldo\"]\n",
    "        rec_mu, rec_sigma = debt[\"rec_mu\"], debt[\"rec_sigma\"]\n",
    "        correcao = debt[\"correcao\"]\n",
    "        \n",
    "        # Calcular parâmetros da distribuição Beta\n",
    "        alpha, beta_param = beta_params(rec_mu, rec_sigma**2)\n",
    "        \n",
    "        for t in range(max_years):\n",
    "            # Gerar recuperação anual\n",
    "            rec_percent = beta.rvs(alpha, beta_param)\n",
    "            recovery = saldo * rec_percent\n",
    "            \n",
    "            # Atualizar recuperação e saldo\n",
    "            annual_recoveries[t] += recovery\n",
    "            saldo = saldo * (1 + correcao) - recovery\n",
    "            saldo = max(saldo, 0)  # O saldo não pode ser negativo\n",
    "            \n",
    "            # Armazenar saldo restante\n",
    "            annual_balances[t] += saldo\n",
    "    \n",
    "    all_recoveries[sim] = annual_recoveries\n",
    "    all_remaining_balances[sim] = annual_balances\n",
    "\n",
    "# Cálculo de métricas de risco\n",
    "expected_recoveries = np.mean(all_recoveries, axis=0)  # Recuperação esperada por ano\n",
    "expected_balances = np.mean(all_remaining_balances, axis=0)  # Saldos esperados por ano\n",
    "\n",
    "#Calcula valor presente das recuperações esperadas\n",
    "expected_recoveries_pv = np.zeros(max_years)\n",
    "tx_desconto = .06\n",
    "for i in range(max_years):\n",
    "    expected_recoveries_pv[i] = expected_recoveries[i] / ((1 + tx_desconto) ** i)\n",
    "npv = np.sum(expected_recoveries_pv)\n",
    "\n",
    "\n",
    "#Printar resultados\n",
    "print(\"Recuperação esperada por ano:\")\n",
    "for i, rec in enumerate(expected_recoveries):\n",
    "    print(f\"Ano {i+1}: R$ {rec:.2f}\")\n",
    "\n",
    "print(\"\\nSaldo esperado por ano:\")\n",
    "for i, bal in enumerate(expected_balances):\n",
    "    print(f\"Ano {i+1}: R$ {bal:.2f}\")\n",
    "\n",
    "print(\"\\nValor presente das recuperações esperadas:\")\n",
    "print(f\"NPV: R$ {npv:.2f}\")\n"
   ]
  },
  {
   "cell_type": "code",
   "execution_count": 6,
   "metadata": {},
   "outputs": [
    {
     "name": "stderr",
     "output_type": "stream",
     "text": [
      "C:\\Users\\d805664\\AppData\\Local\\Temp\\ipykernel_17104\\1775107448.py:3: MatplotlibDeprecationWarning: The seaborn styles shipped by Matplotlib are deprecated since 3.6, as they no longer correspond to the styles shipped by seaborn. However, they will remain available as 'seaborn-v0_8-<style>'. Alternatively, directly use the seaborn API instead.\n",
      "  plt.style.use('seaborn-whitegrid')\n"
     ]
    },
    {
     "ename": "TypeError",
     "evalue": "Axes.bar() missing 1 required positional argument: 'height'",
     "output_type": "error",
     "traceback": [
      "\u001b[1;31m---------------------------------------------------------------------------\u001b[0m",
      "\u001b[1;31mTypeError\u001b[0m                                 Traceback (most recent call last)",
      "Cell \u001b[1;32mIn[6], line 8\u001b[0m\n\u001b[0;32m      5\u001b[0m fig, ax \u001b[38;5;241m=\u001b[39m plt\u001b[38;5;241m.\u001b[39msubplots(\u001b[38;5;241m2\u001b[39m, \u001b[38;5;241m1\u001b[39m, figsize\u001b[38;5;241m=\u001b[39m(\u001b[38;5;241m10\u001b[39m, \u001b[38;5;241m10\u001b[39m))\n\u001b[0;32m      7\u001b[0m \u001b[38;5;66;03m# Plotar saldos esperados\u001b[39;00m\n\u001b[1;32m----> 8\u001b[0m ax[\u001b[38;5;241m0\u001b[39m]\u001b[38;5;241m.\u001b[39mbar(expected_balances, label\u001b[38;5;241m=\u001b[39m\u001b[38;5;124m\"\u001b[39m\u001b[38;5;124mSaldo esperado\u001b[39m\u001b[38;5;124m\"\u001b[39m)\n\u001b[0;32m      9\u001b[0m ax[\u001b[38;5;241m0\u001b[39m]\u001b[38;5;241m.\u001b[39mset_title(\u001b[38;5;124m\"\u001b[39m\u001b[38;5;124mEvolução do saldo esperado ao longo do tempo\u001b[39m\u001b[38;5;124m\"\u001b[39m)\n\u001b[0;32m     10\u001b[0m ax[\u001b[38;5;241m0\u001b[39m]\u001b[38;5;241m.\u001b[39mset_xlabel(\u001b[38;5;124m\"\u001b[39m\u001b[38;5;124mAno\u001b[39m\u001b[38;5;124m\"\u001b[39m)\n",
      "File \u001b[1;32mc:\\Users\\d805664\\AppData\\Local\\anaconda3\\Lib\\site-packages\\matplotlib\\__init__.py:1442\u001b[0m, in \u001b[0;36m_preprocess_data.<locals>.inner\u001b[1;34m(ax, data, *args, **kwargs)\u001b[0m\n\u001b[0;32m   1439\u001b[0m \u001b[38;5;129m@functools\u001b[39m\u001b[38;5;241m.\u001b[39mwraps(func)\n\u001b[0;32m   1440\u001b[0m \u001b[38;5;28;01mdef\u001b[39;00m \u001b[38;5;21minner\u001b[39m(ax, \u001b[38;5;241m*\u001b[39margs, data\u001b[38;5;241m=\u001b[39m\u001b[38;5;28;01mNone\u001b[39;00m, \u001b[38;5;241m*\u001b[39m\u001b[38;5;241m*\u001b[39mkwargs):\n\u001b[0;32m   1441\u001b[0m     \u001b[38;5;28;01mif\u001b[39;00m data \u001b[38;5;129;01mis\u001b[39;00m \u001b[38;5;28;01mNone\u001b[39;00m:\n\u001b[1;32m-> 1442\u001b[0m         \u001b[38;5;28;01mreturn\u001b[39;00m func(ax, \u001b[38;5;241m*\u001b[39m\u001b[38;5;28mmap\u001b[39m(sanitize_sequence, args), \u001b[38;5;241m*\u001b[39m\u001b[38;5;241m*\u001b[39mkwargs)\n\u001b[0;32m   1444\u001b[0m     bound \u001b[38;5;241m=\u001b[39m new_sig\u001b[38;5;241m.\u001b[39mbind(ax, \u001b[38;5;241m*\u001b[39margs, \u001b[38;5;241m*\u001b[39m\u001b[38;5;241m*\u001b[39mkwargs)\n\u001b[0;32m   1445\u001b[0m     auto_label \u001b[38;5;241m=\u001b[39m (bound\u001b[38;5;241m.\u001b[39marguments\u001b[38;5;241m.\u001b[39mget(label_namer)\n\u001b[0;32m   1446\u001b[0m                   \u001b[38;5;129;01mor\u001b[39;00m bound\u001b[38;5;241m.\u001b[39mkwargs\u001b[38;5;241m.\u001b[39mget(label_namer))\n",
      "\u001b[1;31mTypeError\u001b[0m: Axes.bar() missing 1 required positional argument: 'height'"
     ]
    },
    {
     "data": {
      "image/png": "[encoded data removed]",
      "text/plain": [
       "<Figure size 1000x1000 with 2 Axes>"
      ]
     },
     "metadata": {},
     "output_type": "display_data"
    }
   ],
   "source": [
    "#Criar um plot com dois subplots para mostrar a evolução do saldo e das recuperações esperadas ao longo do tempo, usando um estilo elegante\n",
    "import matplotlib.pyplot as plt\n",
    "plt.style.use('seaborn-whitegrid')\n",
    "\n",
    "fig, ax = plt.subplots(2, 1, figsize=(10, 10))\n",
    "\n",
    "# Plotar saldos esperados\n",
    "ax[0].plot(expected_balances, label=\"Saldo esperado\")\n",
    "ax[0].set_title(\"Evolução do saldo esperado ao longo do tempo\")\n",
    "ax[0].set_xlabel(\"Ano\")\n",
    "ax[0].set_ylabel(\"Saldo\")\n",
    "ax[0].legend()\n",
    "\n",
    "# Plotar recuperações esperadas\n",
    "ax[1].plot(expected_recoveries, label=\"Recuperação esperada\")\n",
    "ax[1].set_title(\"Evolução da recuperação esperada ao longo do tempo\")\n",
    "ax[1].set_xlabel(\"Ano\")\n",
    "ax[1].set_ylabel(\"Recuperação\")\n",
    "ax[1].legend()\n",
    "\n",
    "plt.tight_layout()\n",
    "plt.show()"
   ]
  }
 ],
 "metadata": {
  "kernelspec": {
   "display_name": "base",
   "language": "python",
   "name": "python3"
  },
  "language_info": {
   "codemirror_mode": {
    "name": "ipython",
    "version": 3
   },
   "file_extension": ".py",
   "mimetype": "text/x-python",
   "name": "python",
   "nbconvert_exporter": "python",
   "pygments_lexer": "ipython3",
   "version": "3.11.3"
  }
 },
 "nbformat": 4,
 "nbformat_minor": 2
}
