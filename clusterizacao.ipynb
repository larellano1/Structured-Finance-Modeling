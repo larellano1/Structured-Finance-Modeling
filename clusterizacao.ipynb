{
 "cells": [
  {
   "cell_type": "code",
   "execution_count": 2,
   "metadata": {},
   "outputs": [
    {
     "name": "stderr",
     "output_type": "stream",
     "text": [
      "c:\\Users\\d805664\\AppData\\Local\\anaconda3\\Lib\\site-packages\\sklearn\\cluster\\_kmeans.py:870: FutureWarning: The default value of `n_init` will change from 10 to 'auto' in 1.4. Set the value of `n_init` explicitly to suppress the warning\n",
      "  warnings.warn(\n",
      "c:\\Users\\d805664\\AppData\\Local\\anaconda3\\Lib\\site-packages\\sklearn\\cluster\\_kmeans.py:1382: UserWarning: KMeans is known to have a memory leak on Windows with MKL, when there are less chunks than available threads. You can avoid it by setting the environment variable OMP_NUM_THREADS=1.\n",
      "  warnings.warn(\n"
     ]
    },
    {
     "name": "stdout",
     "output_type": "stream",
     "text": [
      "\n",
      "Probabilidade de Default por Cluster:\n",
      "   cluster        PD\n",
      "0        0  1.000000\n",
      "1        1  0.000000\n",
      "2        2  0.666667\n",
      "\n",
      "Dados com a coluna cluster:\n",
      "   valor_divida  tipo_devedor  tempo_divida  origem  default  cluster\n",
      "0          5000             0             1       1        0        1\n",
      "1         20000             1             5       2        1        2\n",
      "2          7500             0             2       1        0        1\n",
      "3         12000             1             4       3        1        2\n",
      "4          8000             0             3       2        0        1\n",
      "5         15000             1             6       3        0        2\n",
      "6         30000             1             8       1        1        0\n",
      "7         40000             1            10       2        1        0\n"
     ]
    }
   ],
   "source": [
    "import numpy as np\n",
    "import pandas as pd\n",
    "from sklearn.cluster import KMeans\n",
    "from sklearn.preprocessing import StandardScaler\n",
    "\n",
    "# Dados fictícios: características dos empréstimos\n",
    "data = pd.DataFrame({\n",
    "    \"valor_divida\": [5000, 20000, 7500, 12000, 8000, 15000, 30000, 40000],\n",
    "    \"tipo_devedor\": [0, 1, 0, 1, 0, 1, 1, 1],  # 0 = pessoa física, 1 = pessoa jurídica\n",
    "    \"tempo_divida\": [1, 5, 2, 4, 3, 6, 8, 10],  # Tempo vencido em anos\n",
    "    \"origem\": [1, 2, 1, 3, 2, 3, 1, 2],  # Segmento/indústria (codificado)\n",
    "    \"default\": [0, 1, 0, 1, 0, 0, 1, 1],  # 1 = Default, 0 = Não Default\n",
    "})\n",
    "\n",
    "# Selecionar variáveis para clusterização\n",
    "X = data[[\"valor_divida\", \"tipo_devedor\", \"tempo_divida\", \"origem\"]]\n",
    "\n",
    "# Padronizar os dados (para melhorar a clusterização)\n",
    "scaler = StandardScaler()\n",
    "X_scaled = scaler.fit_transform(X)\n",
    "\n",
    "# Aplicar K-Means\n",
    "kmeans = KMeans(n_clusters=3, random_state=42)  # Escolher 3 clusters como exemplo\n",
    "data[\"cluster\"] = kmeans.fit_predict(X_scaled)\n",
    "\n",
    "# Calcular a probabilidade de default para cada cluster\n",
    "cluster_default_rates = data.groupby(\"cluster\").apply(\n",
    "    lambda x: x[\"default\"].mean()\n",
    ").reset_index(name=\"PD\")\n",
    "\n",
    "# Exibir resultados\n",
    "print(\"\\nProbabilidade de Default por Cluster:\")\n",
    "print(cluster_default_rates)\n",
    "\n",
    "#Exibe os dados com a coluna cluster\n",
    "print(\"\\nDados com a coluna cluster:\")\n",
    "print(data)\n",
    "\n",
    "# Exemplo de uso: atribuir um cluster e a PD correspondente para novos empréstimos\n",
    "new_loans = pd.DataFrame({\n",
    "    \"valor_divida\": [10000, 25000],\n",
    "    \"tipo_devedor\": [0, 1],\n",
    "    \"tempo_divida\": [3, 7],\n",
    "    \"origem\": [2, 1],\n",
    "})\n",
    "\n",
    "# Padronizar novos empréstimos e atribuir cluster\n",
    "new_loans_scaled = scaler.transform(new_loans)\n",
    "new_loans[\"cluster\"] = kmeans.predict(new_loans_scaled)\n"
   ]
  }
 ],
 "metadata": {
  "kernelspec": {
   "display_name": "base",
   "language": "python",
   "name": "python3"
  },
  "language_info": {
   "codemirror_mode": {
    "name": "ipython",
    "version": 3
   },
   "file_extension": ".py",
   "mimetype": "text/x-python",
   "name": "python",
   "nbconvert_exporter": "python",
   "pygments_lexer": "ipython3",
   "version": "3.11.3"
  }
 },
 "nbformat": 4,
 "nbformat_minor": 2
}
