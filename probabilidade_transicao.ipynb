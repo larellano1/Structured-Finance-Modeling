{
 "cells": [
  {
   "cell_type": "markdown",
   "metadata": {},
   "source": [
    "Cálculo da Probabilidade de Default no Ano Seguinte\n",
    "\n",
    "Quando você tem dados históricos para diferentes empréstimos ao longo de vários anos, a probabilidade de um empréstimo entrar em default no ano seguinte depende do contexto em que os dados foram coletados e do momento tomado como referência.\n",
    "\n",
    "Esse tipo de cálculo é frequentemente chamado de probabilidade de default condicional ou probabilidade de transição. O momento de referência, ou \"baseline\", é crucial porque ele captura as condições iniciais do empréstimo e do ambiente econômico."
   ]
  },
  {
   "cell_type": "code",
   "execution_count": 2,
   "metadata": {},
   "outputs": [
    {
     "name": "stdout",
     "output_type": "stream",
     "text": [
      "    Ano  level_1  ativos_t  defaults_t+1  ativos_t-1  PD_t+1\n",
      "0  2020        0         4             0         NaN     0.0\n",
      "1  2021        0         2             2         4.0     0.5\n"
     ]
    }
   ],
   "source": [
    "import pandas as pd\n",
    "\n",
    "# Dados fictícios\n",
    "data = pd.DataFrame({\n",
    "    \"ID\": [1, 1, 2, 2, 3, 3, 4, 4],\n",
    "    \"Ano\": [2020, 2021, 2020, 2021, 2020, 2021, 2020, 2021],\n",
    "    \"Status_t\": [0, 1, 0, 0, 0, 1, 0, 0],  # 1 = Default, 0 = Não Default\n",
    "})\n",
    "\n",
    "# Criar tabela de transição com ativos do ano anterior\n",
    "transitions = data.groupby(\"Ano\").apply(\n",
    "    lambda x: pd.DataFrame({\n",
    "        \"ativos_t\": [x[x[\"Status_t\"] == 0].shape[0]],  # Empréstimos ativos no ano t\n",
    "        \"defaults_t+1\": [x[x[\"Status_t\"] == 1].shape[0]]  # Empréstimos que entraram em default no ano seguinte\n",
    "    })\n",
    ").reset_index()\n",
    "\n",
    "# Criar coluna defasada para \"ativos_t\" do ano anterior\n",
    "transitions[\"ativos_t-1\"] = transitions[\"ativos_t\"].shift(1)\n",
    "\n",
    "# Calcular probabilidade condicional de default\n",
    "transitions[\"PD_t+1\"] = transitions[\"defaults_t+1\"] / transitions[\"ativos_t-1\"]\n",
    "\n",
    "# Substituir NaN (primeiro ano não tem referência) por 0\n",
    "transitions[\"PD_t+1\"] = transitions[\"PD_t+1\"].fillna(0)\n",
    "\n",
    "# Resultados\n",
    "print(transitions)\n"
   ]
  }
 ],
 "metadata": {
  "kernelspec": {
   "display_name": "base",
   "language": "python",
   "name": "python3"
  },
  "language_info": {
   "codemirror_mode": {
    "name": "ipython",
    "version": 3
   },
   "file_extension": ".py",
   "mimetype": "text/x-python",
   "name": "python",
   "nbconvert_exporter": "python",
   "pygments_lexer": "ipython3",
   "version": "3.11.3"
  }
 },
 "nbformat": 4,
 "nbformat_minor": 2
}
